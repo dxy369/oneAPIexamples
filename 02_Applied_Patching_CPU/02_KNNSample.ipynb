{
 "cells": [
  {
   "cell_type": "code",
   "execution_count": 142,
   "id": "5f14ecbe",
   "metadata": {
    "scrolled": false
   },
   "outputs": [
    {
     "name": "stdout",
     "output_type": "stream",
     "text": [
      "(150, 4)\n",
      "dataset shape:  (150, 4)\n",
      "在测试集上准确率： 0.9736842105263158\n",
      "在交叉验证当中最好的结果： 0.9727095516569201\n",
      "选择最好的模型是： KNeighborsClassifier(n_neighbors=3)\n",
      "Time to calculate \u001b[1m knn.predict in UnPatched scikit-learn  0.00099\u001b[0m seconds\n",
      "Classification report for kNN:\n",
      "              precision    recall  f1-score   support\n",
      "\n",
      "           0       1.00      1.00      1.00        12\n",
      "           1       1.00      0.88      0.93         8\n",
      "           2       0.95      1.00      0.97        18\n",
      "\n",
      "    accuracy                           0.97        38\n",
      "   macro avg       0.98      0.96      0.97        38\n",
      "weighted avg       0.98      0.97      0.97        38\n",
      "\n",
      "\n",
      "Time to calculate \u001b[1m knn.predict in Patched scikit-learn  0.00099\u001b[0m seconds\n",
      "Classification report for kNN:\n",
      "              precision    recall  f1-score   support\n",
      "\n",
      "           0       1.00      1.00      1.00        12\n",
      "           1       1.00      0.88      0.93         8\n",
      "           2       0.95      1.00      0.97        18\n",
      "\n",
      "    accuracy                           0.97        38\n",
      "   macro avg       0.98      0.96      0.97        38\n",
      "weighted avg       0.98      0.97      0.97        38\n",
      "\n",
      "\n"
     ]
    },
    {
     "name": "stderr",
     "output_type": "stream",
     "text": [
      "Intel(R) Extension for Scikit-learn* enabled (https://github.com/intel/scikit-learn-intelex)\n"
     ]
    },
    {
     "data": {
      "image/png": "[encoded data removed]",
      "text/plain": [
       "<Figure size 1600x800 with 1 Axes>"
      ]
     },
     "metadata": {},
     "output_type": "display_data"
    },
    {
     "name": "stdout",
     "output_type": "stream",
     "text": [
      "Intel(R) Extensions for scikit-learn* \u001b[1mKNN acceleration  1.0 x!\u001b[0m\n"
     ]
    }
   ],
   "source": [
    "from sklearn import datasets#导入sklearn数据集\n",
    "from sklearn.neighbors import KNeighborsClassifier#分类\n",
    "from sklearn import metrics\n",
    "import time\n",
    "\n",
    "iris = datasets.load_iris()#加载鸢尾花数据集\n",
    "#print(iris.DESCR)#输出数据集的信息，查看属性，数据集数量和种类\n",
    "X=iris.data#分离数据集的属性和标签，标签就是表明种类\n",
    "Y=iris.target\n",
    "\n",
    "#分离数据集为训练集和测试集，用测试集判断准确率\n",
    "from sklearn.model_selection import train_test_split\n",
    "X_train,X_test,Y_train,Y_test=train_test_split(X,Y,test_size=1/3,random_state=24)\n",
    "\n",
    "#导包标准化，原理以上说过了，这里直接导包方便\n",
    "from sklearn.preprocessing import StandardScaler\n",
    "standardscaler=StandardScaler()\n",
    "standardscaler.fit(X_train)\n",
    "X_train=standardscaler.transform(X_train)\n",
    "X_test=standardscaler.transform(X_test)\n",
    "\n",
    "\n",
    "print('dataset shape: ', X.shape)\n",
    "\n",
    "# #导包网格搜索，搜索算法最合适的参数\n",
    "# from sklearn.model_selection import GridSearchCV#grid网格,search搜索\n",
    "# # 构造一些属性\n",
    "params = {'n_neighbors':[i for i in range(1,15)],\n",
    "          'weights':['uniform','distance'],\n",
    "          'p':[1,2]}\n",
    "# # 进行网格搜索\n",
    "knn=KNeighborsClassifier()\n",
    "grid = GridSearchCV(knn, params,scoring='accuracy',cv=6)\n",
    "grid.fit(X_train, Y_train)\n",
    "# 预测准确率\n",
    "print(\"在测试集上准确率：\", grid.score(X_test, Y_test))\n",
    "print(\"在交叉验证当中最好的结果：\", grid.best_score_)\n",
    "print(\"选择最好的模型是：\", grid.best_estimator_)\n",
    "#print(\"每个超参数每次交叉验证的结果：\", gcv.cv_results_)\n",
    "\n",
    "#knn算法流程\n",
    "knn=grid.best_estimator_#最好的模型赋给knn\n",
    "\n",
    "\n",
    "\n",
    "#unpatch\n",
    "from sklearnex import unpatch_sklearn\n",
    "unpatch_sklearn()\n",
    "#\n",
    "start_time = time.time()\n",
    "knn.fit(X_train,Y_train)#fit用于训练\n",
    "Y_pred=knn.predict(X_test)#predict用于预测\n",
    "unpatched_time = time.time() - start_time\n",
    "\n",
    "print(\"Time to calculate \\033[1m knn.predict in UnPatched scikit-learn {:8.5f}\\033[0m seconds\".format(unpatched_time))\n",
    "\n",
    "report = metrics.classification_report(Y_test, Y_pred)\n",
    "print(f\"Classification report for kNN:\\n{report}\\n\")\n",
    "\n",
    "#patch\n",
    "from sklearnex import patch_sklearn\n",
    "patch_sklearn()\n",
    "#\n",
    "start_time = time.time()\n",
    "knn.fit(X_train,Y_train)#fit用于训练\n",
    "Y_pred=knn.predict(X_test)#predict用于预测\n",
    "patched_time = time.time() - start_time\n",
    "\n",
    "print(\"Time to calculate \\033[1m knn.predict in Patched scikit-learn {:8.5f}\\033[0m seconds\".format(patched_time))\n",
    "\n",
    "report = metrics.classification_report(Y_test, Y_pred)\n",
    "print(f\"Classification report for kNN:\\n{report}\\n\")\n",
    "\n",
    "%matplotlib inline\n",
    "import matplotlib.pyplot as plt\n",
    "\n",
    "left = [1,2]\n",
    "pred_times = [unpatched_time, patched_time]\n",
    "tick_label = ['unpatched KNN', 'patched KNN']\n",
    "plt.figure(figsize = (16,8))\n",
    "plt.bar(left, pred_times, tick_label = tick_label, width = 0.5, color = ['red', 'blue'])\n",
    "plt.xlabel('Predict Method'); plt.ylabel('time [s]'); plt.title('KNN Predict time [s] - Lower is better')\n",
    "plt.show()\n",
    "\n",
    "print('Intel(R) Extensions for scikit-learn* \\033[1mKNN acceleration {:4.1f} x!\\033[0m'.format( unpatched_time/patched_time))"
   ]
  },
  {
   "cell_type": "code",
   "execution_count": null,
   "id": "29436b4f",
   "metadata": {},
   "outputs": [],
   "source": []
  }
 ],
 "metadata": {
  "kernelspec": {
   "display_name": "Python 3 (ipykernel)",
   "language": "python",
   "name": "python3"
  },
  "language_info": {
   "codemirror_mode": {
    "name": "ipython",
    "version": 3
   },
   "file_extension": ".py",
   "mimetype": "text/x-python",
   "name": "python",
   "nbconvert_exporter": "python",
   "pygments_lexer": "ipython3",
   "version": "3.10.9"
  }
 },
 "nbformat": 4,
 "nbformat_minor": 5
}
